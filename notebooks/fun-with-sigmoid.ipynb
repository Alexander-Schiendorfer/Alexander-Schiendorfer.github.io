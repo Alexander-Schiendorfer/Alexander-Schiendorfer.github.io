{
 "cells": [
  {
   "cell_type": "code",
   "execution_count": 4,
   "metadata": {},
   "outputs": [
    {
     "name": "stdout",
     "output_type": "stream",
     "text": [
      "Populating the interactive namespace from numpy and matplotlib\n"
     ]
    }
   ],
   "source": [
    "import numpy as np\n",
    "# sigmoid playground\n",
    "%pylab inline"
   ]
  },
  {
   "cell_type": "code",
   "execution_count": 3,
   "metadata": {},
   "outputs": [],
   "source": [
    "def sigmoid(x):\n",
    "    return 1./(1. + np.exp(-x))\n"
   ]
  },
  {
   "cell_type": "code",
   "execution_count": 12,
   "metadata": {},
   "outputs": [
    {
     "data": {
      "text/plain": [
       "Text(0, 0.5, 'sigmoid(x)')"
      ]
     },
     "execution_count": 12,
     "metadata": {},
     "output_type": "execute_result"
    },
    {
     "data": {
      "image/png": "[encoded data removed]",
      "text/plain": [
       "<Figure size 432x288 with 1 Axes>"
      ]
     },
     "metadata": {
      "needs_background": "light"
     },
     "output_type": "display_data"
    }
   ],
   "source": [
    "# first of all, let's plot it \n",
    "x = np.linspace(-7,7,1000)\n",
    "plot(x, sigmoid(x))\n",
    "xlabel(\"x\")\n",
    "ylabel(\"sigmoid(x)\")"
   ]
  },
  {
   "cell_type": "code",
   "execution_count": 16,
   "metadata": {},
   "outputs": [
    {
     "name": "stdout",
     "output_type": "stream",
     "text": [
      "-0.9\n",
      "0.289050497374996\n"
     ]
    }
   ],
   "source": [
    "# what is the value at -0.4\n",
    "activation = 0.6 - 5*0.3\n",
    "print(activation)\n",
    "print(sigmoid(-0.9))"
   ]
  },
  {
   "cell_type": "code",
   "execution_count": 31,
   "metadata": {},
   "outputs": [
    {
     "name": "stdout",
     "output_type": "stream",
     "text": [
      "0.017662706213291118\n",
      "0.19661193324148185\n",
      "0.25\n",
      "0.19661193324148185\n",
      "0.017662706213291107\n"
     ]
    },
    {
     "data": {
      "image/png": "[encoded data removed]",
      "text/plain": [
       "<Figure size 576x432 with 1 Axes>"
      ]
     },
     "metadata": {
      "needs_background": "light"
     },
     "output_type": "display_data"
    }
   ],
   "source": [
    "# let's test the derivative for a couple of points\n",
    "\n",
    "def dsigmoid(x):\n",
    "    return sigmoid(x) * (1.0 - sigmoid(x))\n",
    "\n",
    "x = np.linspace(-8,8,1000)\n",
    "figure(figsize=(8,6))\n",
    "plot(x, sigmoid(x))\n",
    "scatter(0, sigmoid(0))\n",
    "scatter(-1, sigmoid(-1))\n",
    "scatter(1, sigmoid(1))\n",
    "scatter(-4, sigmoid(-4))\n",
    "scatter(4, sigmoid(4))\n",
    "xlabel(\"x\")\n",
    "ylabel(\"sigmoid(x)\")\n",
    "savefig(\"sigmoid-points.png\")\n",
    "\n",
    "print(dsigmoid(-4))\n",
    "print(dsigmoid(-1))\n",
    "print(dsigmoid(0))\n",
    "print(dsigmoid(1))\n",
    "print(dsigmoid(4))"
   ]
  },
  {
   "cell_type": "code",
   "execution_count": 32,
   "metadata": {},
   "outputs": [
    {
     "name": "stdout",
     "output_type": "stream",
     "text": [
      "Analytic gradient at 1: 0.19661193324148185\n",
      "Numeric gradient at 1: 0.1965664984852067\n"
     ]
    }
   ],
   "source": [
    "def check_gradient(func, x):\n",
    "    eps = 0.001\n",
    "    numeric_gradient = (func(x+eps)-func(x)) / eps\n",
    "    return numeric_gradient\n",
    "\n",
    "print(\"Analytic gradient at 1:\", dsigmoid(1))\n",
    "print(\"Numeric gradient at 1:\", check_gradient(sigmoid, 1))"
   ]
  },
  {
   "cell_type": "markdown",
   "metadata": {},
   "source": [
    "## Interpret sigmoid as probability"
   ]
  },
  {
   "cell_type": "code",
   "execution_count": 34,
   "metadata": {},
   "outputs": [
    {
     "name": "stdout",
     "output_type": "stream",
     "text": [
      "4.4816890703380645 0.6065306597126334\n",
      "5.088219730050698\n",
      "0.8807970779778824 0.11920292202211757\n"
     ]
    }
   ],
   "source": [
    "# first, for the softmax case \n",
    "score1, score2 = 1.5, -0.5\n",
    "e_score1, e_score2 = np.exp(score1), np.exp(score2)\n",
    "print(e_score1, e_score2)\n",
    "summed = e_score1 + e_score2\n",
    "print(summed)\n",
    "norm_score1, norm_score2 = e_score1 / summed, e_score2 / summed\n",
    "print(norm_score1, norm_score2)"
   ]
  },
  {
   "cell_type": "code",
   "execution_count": 39,
   "metadata": {},
   "outputs": [
    {
     "name": "stdout",
     "output_type": "stream",
     "text": [
      "0.6703200460356393\n",
      "1.4918246976412703\n"
     ]
    }
   ],
   "source": [
    "# now for sigmoid\n",
    "\n",
    "log_score1 = -0.4\n",
    "score1 = np.exp(log_score1)\n",
    "print(score1)\n",
    "log_score2 = 0.4\n",
    "score2 = np.exp(log_score2)\n",
    "print(score2)"
   ]
  },
  {
   "cell_type": "code",
   "execution_count": 42,
   "metadata": {},
   "outputs": [
    {
     "name": "stdout",
     "output_type": "stream",
     "text": [
      "0.598687660112452 0.401312339887548\n"
     ]
    }
   ],
   "source": [
    "# now investigate score 1\n",
    "sum1 = score1+1\n",
    "prob0 = 1 / sum1\n",
    "prob1 = score1 / sum1\n",
    "print(prob0, prob1)"
   ]
  },
  {
   "cell_type": "code",
   "execution_count": 43,
   "metadata": {},
   "outputs": [
    {
     "name": "stdout",
     "output_type": "stream",
     "text": [
      "0.401312339887548\n"
     ]
    }
   ],
   "source": [
    "# let's compare this to the sigmoid output for the unnormalized\n",
    "# log-probability:\n",
    "print(sigmoid(log_score1))"
   ]
  },
  {
   "cell_type": "code",
   "execution_count": 44,
   "metadata": {},
   "outputs": [
    {
     "name": "stdout",
     "output_type": "stream",
     "text": [
      "2.4918246976412703\n",
      "0.401312339887548 0.598687660112452\n"
     ]
    }
   ],
   "source": [
    "# now investigate score 2\n",
    "sum2 = score2+1\n",
    "prob0 = 1 / sum2\n",
    "prob1 = score2 / sum2\n",
    "print(sum2)\n",
    "print(prob0, prob1)"
   ]
  },
  {
   "cell_type": "code",
   "execution_count": 45,
   "metadata": {},
   "outputs": [
    {
     "name": "stdout",
     "output_type": "stream",
     "text": [
      "0.598687660112452\n"
     ]
    }
   ],
   "source": [
    "# and similarly, just take the sigmoid output\n",
    "print(sigmoid(log_score2))"
   ]
  },
  {
   "cell_type": "code",
   "execution_count": 46,
   "metadata": {},
   "outputs": [
    {
     "name": "stdout",
     "output_type": "stream",
     "text": [
      "0.598687660112452 0.401312339887548\n",
      "0.598687660112452 0.401312339887548\n"
     ]
    }
   ],
   "source": [
    "log_score1 = -0.4\n",
    "\n",
    "# make exponentiating and normalizing explicit\n",
    "score1 = np.exp(log_score1)\n",
    "sum1 = score1+1\n",
    "prob0 = 1 / sum1\n",
    "prob1 = score1 / sum1\n",
    "print(prob0, prob1)\n",
    "\n",
    "# compare that to the output of sigmoid \n",
    "# of the unnormalized score\n",
    "print(1-sigmoid(log_score1), sigmoid(log_score1))"
   ]
  }
 ],
 "metadata": {
  "kernelspec": {
   "display_name": "Python 3",
   "language": "python",
   "name": "python3"
  },
  "language_info": {
   "codemirror_mode": {
    "name": "ipython",
    "version": 3
   },
   "file_extension": ".py",
   "mimetype": "text/x-python",
   "name": "python",
   "nbconvert_exporter": "python",
   "pygments_lexer": "ipython3",
   "version": "3.7.4"
  }
 },
 "nbformat": 4,
 "nbformat_minor": 2
}
