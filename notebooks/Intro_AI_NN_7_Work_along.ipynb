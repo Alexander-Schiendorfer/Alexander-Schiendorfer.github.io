{
 "cells": [
  {
   "cell_type": "code",
   "execution_count": 167,
   "metadata": {},
   "outputs": [
    {
     "name": "stdout",
     "output_type": "stream",
     "text": [
      "Populating the interactive namespace from numpy and matplotlib\n"
     ]
    },
    {
     "name": "stderr",
     "output_type": "stream",
     "text": [
      "C:\\Users\\schiendorfer\\Anaconda3\\lib\\site-packages\\IPython\\core\\magics\\pylab.py:159: UserWarning: pylab import has clobbered these variables: ['diff']\n",
      "`%matplotlib` prevents importing * from pylab and numpy\n",
      "  warn(\"pylab import has clobbered these variables: %s\"  % clobbered +\n"
     ]
    }
   ],
   "source": [
    "# gives us access to numerical calculations\n",
    "import numpy as np\n",
    "%pylab inline"
   ]
  },
  {
   "cell_type": "code",
   "execution_count": 168,
   "metadata": {},
   "outputs": [],
   "source": [
    "# the data set X, it has a one in the first column such that Xw is of the form y = w_0 + w_1 * x \n",
    "X = np.array([[1, 1], \n",
    "              [1, 2.5], \n",
    "              [1, 3], \n",
    "              [1, 3.4], \n",
    "              [1,4]])\n",
    "\n",
    "# the target values\n",
    "y = np.array([1, 1.4, 2.5, 1.9, 3.2])"
   ]
  },
  {
   "cell_type": "markdown",
   "metadata": {},
   "source": [
    "## Visualize the data"
   ]
  },
  {
   "cell_type": "code",
   "execution_count": 169,
   "metadata": {},
   "outputs": [
    {
     "data": {
      "text/plain": [
       "[<matplotlib.lines.Line2D at 0x2b86fa1c6d0>]"
      ]
     },
     "execution_count": 169,
     "metadata": {},
     "output_type": "execute_result"
    },
    {
     "data": {
      "image/png": "[encoded data removed]",
      "text/plain": [
       "<Figure size 432x288 with 1 Axes>"
      ]
     },
     "metadata": {
      "needs_background": "light"
     },
     "output_type": "display_data"
    }
   ],
   "source": [
    "plot(X[:,1], y, 'o')"
   ]
  },
  {
   "cell_type": "code",
   "execution_count": 170,
   "metadata": {},
   "outputs": [
    {
     "data": {
      "image/png": "[encoded data removed]",
      "text/plain": [
       "<Figure size 432x288 with 1 Axes>"
      ]
     },
     "metadata": {
      "needs_background": "light"
     },
     "output_type": "display_data"
    }
   ],
   "source": [
    "# a prediction based on the weight vector 0,0\n",
    "w = np.array([0,0])\n",
    "\n",
    "def plot_model_and_data(w, X, y):\n",
    "    # make predictions for 1000 values between 0.0 and 5.0\n",
    "    x_test = np.linspace(0, 5, 1000).reshape(-1,1)\n",
    "\n",
    "    # also add the columns of ones\n",
    "    X_test = np.hstack( (np.ones((len(x_test),1)), x_test))\n",
    "    y_pred = np.dot(X_test, w)\n",
    "\n",
    "    # plot the test data and the prediction data\n",
    "    plot(X[:,1], y, 'o')\n",
    "    plot(X_test[:,1], y_pred, 'orange')\n",
    "    \n",
    "plot_model_and_data(w, X, y)"
   ]
  },
  {
   "cell_type": "markdown",
   "metadata": {},
   "source": [
    "## Try out different values of w yourself"
   ]
  },
  {
   "cell_type": "code",
   "execution_count": 171,
   "metadata": {},
   "outputs": [
    {
     "data": {
      "image/png": "[encoded data removed]",
      "text/plain": [
       "<Figure size 432x288 with 1 Axes>"
      ]
     },
     "metadata": {
      "needs_background": "light"
     },
     "output_type": "display_data"
    }
   ],
   "source": [
    "# for example \n",
    "w = np.array([-1, 2])\n",
    "plot_model_and_data(w, X, y)"
   ]
  },
  {
   "cell_type": "markdown",
   "metadata": {},
   "source": [
    "## How you would solve it in a real-life project?\n",
    "\n",
    "https://scikit-learn.org/stable/modules/generated/sklearn.linear_model.LinearRegression.html\n",
    "\n"
   ]
  },
  {
   "cell_type": "code",
   "execution_count": 195,
   "metadata": {},
   "outputs": [
    {
     "name": "stdout",
     "output_type": "stream",
     "text": [
      "[0.13877709 0.66950464]\n"
     ]
    },
    {
     "data": {
      "image/png": "[encoded data removed]",
      "text/plain": [
       "<Figure size 432x288 with 1 Axes>"
      ]
     },
     "metadata": {
      "needs_background": "light"
     },
     "output_type": "display_data"
    }
   ],
   "source": [
    "import numpy as np\n",
    "from sklearn.linear_model import LinearRegression\n",
    "\n",
    "reg = LinearRegression(fit_intercept = False).fit(X, y) # We already have a column of ones, so no intercept needed\n",
    "print(reg.coef_)\n",
    "\n",
    "plot_model_and_data(reg.coef_, X, y)"
   ]
  },
  {
   "cell_type": "markdown",
   "metadata": {},
   "source": [
    "But let's try to understand what's under the hood."
   ]
  },
  {
   "cell_type": "markdown",
   "metadata": {},
   "source": [
    "## Calculate the objective function / cost function -> MSE \n",
    "Let's first compare the predictions and targets\n",
    "\n",
    "$$\n",
    "\\frac{1}{|D|} \\sum_{<x,y> \\in D} (y - f(x))^2 \n",
    "$$"
   ]
  },
  {
   "cell_type": "code",
   "execution_count": 172,
   "metadata": {},
   "outputs": [
    {
     "name": "stdout",
     "output_type": "stream",
     "text": [
      "[1.  1.4 2.5 1.9 3.2]\n",
      "[1.  4.  5.  5.8 7. ]\n"
     ]
    }
   ],
   "source": [
    "# the targets\n",
    "print(y) \n",
    "\n",
    "# the predictions\n",
    "w = np.array([-1, 2])\n",
    "y_pred = np.dot(X, w)\n",
    "print(y_pred) "
   ]
  },
  {
   "cell_type": "code",
   "execution_count": 173,
   "metadata": {},
   "outputs": [
    {
     "name": "stdout",
     "output_type": "stream",
     "text": [
      "[0.  2.6 2.5 3.9 3.8]\n"
     ]
    }
   ],
   "source": [
    "# take the component-wise differences\n",
    "differences = y_pred - y\n",
    "print(differences)"
   ]
  },
  {
   "cell_type": "code",
   "execution_count": 174,
   "metadata": {},
   "outputs": [
    {
     "name": "stdout",
     "output_type": "stream",
     "text": [
      "[ 0.    6.76  6.25 15.21 14.44]\n"
     ]
    }
   ],
   "source": [
    "# take the squares\n",
    "diffs_squared = np.power(differences, 2)\n",
    "print(diffs_squared)"
   ]
  },
  {
   "cell_type": "code",
   "execution_count": 175,
   "metadata": {},
   "outputs": [
    {
     "name": "stdout",
     "output_type": "stream",
     "text": [
      "42.66\n"
     ]
    }
   ],
   "source": [
    "# sum them up \n",
    "sum_of_squares = np.sum(diffs_squared)\n",
    "print(sum_of_squares)"
   ]
  },
  {
   "cell_type": "code",
   "execution_count": 176,
   "metadata": {},
   "outputs": [
    {
     "name": "stdout",
     "output_type": "stream",
     "text": [
      "8.532\n"
     ]
    }
   ],
   "source": [
    "# divide by the number of data points\n",
    "mean_squared_error = sum_of_squares / X.shape[0]\n",
    "print(mean_squared_error)"
   ]
  },
  {
   "cell_type": "markdown",
   "metadata": {},
   "source": [
    "Now wrap all of that up in a function `mean_squared_error` that returns the cost for a given parameter vector `w`"
   ]
  },
  {
   "cell_type": "code",
   "execution_count": 177,
   "metadata": {},
   "outputs": [
    {
     "name": "stdout",
     "output_type": "stream",
     "text": [
      "8.532\n"
     ]
    }
   ],
   "source": [
    "def mean_squared_error(w, X, y):\n",
    "    pass\n",
    "\n",
    "print(mean_squared_error(w, X, y))"
   ]
  },
  {
   "cell_type": "markdown",
   "metadata": {},
   "source": [
    "Now try this again for different values of w, for example:"
   ]
  },
  {
   "cell_type": "code",
   "execution_count": 178,
   "metadata": {},
   "outputs": [
    {
     "name": "stdout",
     "output_type": "stream",
     "text": [
      "0.34534499999999996\n"
     ]
    },
    {
     "data": {
      "image/png": "[encoded data removed]",
      "text/plain": [
       "<Figure size 432x288 with 1 Axes>"
      ]
     },
     "metadata": {
      "needs_background": "light"
     },
     "output_type": "display_data"
    }
   ],
   "source": [
    "# for example \n",
    "w = np.array([-0.25, 0.65])\n",
    "plot_model_and_data(w, X, y)\n",
    "print(mean_squared_error(w, X, y))"
   ]
  },
  {
   "cell_type": "markdown",
   "metadata": {},
   "source": [
    "## The simplest algorithm in the world -- just random guessing\n",
    "\n"
   ]
  },
  {
   "cell_type": "code",
   "execution_count": 179,
   "metadata": {},
   "outputs": [
    {
     "name": "stdout",
     "output_type": "stream",
     "text": [
      "The best weight is: [[ 1.98160357]\n",
      " [-0.01141626]] with mean squared error: 3.0732404593254756\n"
     ]
    },
    {
     "data": {
      "image/png": "[encoded data removed]",
      "text/plain": [
       "<Figure size 432x288 with 1 Axes>"
      ]
     },
     "metadata": {
      "needs_background": "light"
     },
     "output_type": "display_data"
    }
   ],
   "source": [
    "n_trials = 10000\n",
    "w = np.array([0, 0])\n",
    "best_so_far = mean_squared_error(w, X, y)\n",
    "best_w = w\n",
    "\n",
    "for i in range(n_trials):\n",
    "    # draw a random weight vector between -2 and 2\n",
    "    w = np.random.uniform(-5,5,[2,1]) # A 2x1 column vector\n",
    "    mse = mean_squared_error(w, X, y)\n",
    "\n",
    "    if mse < best_so_far:\n",
    "        best_so_far = mse\n",
    "        best_w = w\n",
    "        \n",
    "print(f\"The best weight is: {best_w} with mean squared error: {best_so_far}\")\n",
    "plot_model_and_data(best_w, X, y)"
   ]
  },
  {
   "cell_type": "markdown",
   "metadata": {},
   "source": [
    "A simple local search"
   ]
  },
  {
   "cell_type": "code",
   "execution_count": 180,
   "metadata": {},
   "outputs": [
    {
     "name": "stdout",
     "output_type": "stream",
     "text": [
      "Now  MSE is 3.7477001530901135\n",
      "Now  MSE is 3.0832334278674223\n",
      "Now  MSE is 3.0664986042627107\n",
      "Now  MSE is 3.060349289580246\n",
      "Now  MSE is 3.0600885945164333\n",
      "Now  MSE is 3.060084373645349\n",
      "The best weight is: [[ 2.00978931]\n",
      " [-0.00230862]] with mean squared error: 3.060084373645349\n"
     ]
    },
    {
     "data": {
      "image/png": "[encoded data removed]",
      "text/plain": [
       "<Figure size 432x288 with 1 Axes>"
      ]
     },
     "metadata": {
      "needs_background": "light"
     },
     "output_type": "display_data"
    }
   ],
   "source": [
    "n_trials = 1000\n",
    "w = np.array([0, 0]).reshape(-1,1)\n",
    "current_mse = mean_squared_error(w, X, y)\n",
    "current_w = w\n",
    "\n",
    "for i in range(n_trials):\n",
    "    # generate 100 small perturbations, take the best change\n",
    "    for j in range(100):\n",
    "        # draw a random weight vector between -2 and 2\n",
    "        change_w = np.random.uniform(-1,1,[2,1]) # A 2x1 column vector\n",
    "        candidate_w = current_w + change_w\n",
    "\n",
    "        mse = mean_squared_error(candidate_w, X, y)\n",
    "        if mse < current_mse:\n",
    "            current_mse = mse\n",
    "            current_w = candidate_w\n",
    "            print(f\"Now  MSE is {current_mse}\")\n",
    "            break\n",
    "\n",
    "        \n",
    "print(f\"The best weight is: {current_w} with mean squared error: {current_mse}\")\n",
    "plot_model_and_data(current_w, X, y)"
   ]
  },
  {
   "cell_type": "markdown",
   "metadata": {},
   "source": [
    "## Gradient update\n",
    "\n",
    "Let's start with an arbitrary value:"
   ]
  },
  {
   "cell_type": "code",
   "execution_count": 181,
   "metadata": {},
   "outputs": [
    {
     "data": {
      "image/png": "[encoded data removed]",
      "text/plain": [
       "<Figure size 432x288 with 1 Axes>"
      ]
     },
     "metadata": {
      "needs_background": "light"
     },
     "output_type": "display_data"
    }
   ],
   "source": [
    "w = np.array([1, 0.3])\n",
    "plot_model_and_data(w, X, y)"
   ]
  },
  {
   "cell_type": "code",
   "execution_count": 189,
   "metadata": {},
   "outputs": [
    {
     "name": "stdout",
     "output_type": "stream",
     "text": [
      "MSE before gradient update: 0.3173800000000001\n",
      "MSE after gradient update: 0.2399900629672\n"
     ]
    }
   ],
   "source": [
    "y_pred = np.dot(X,w)\n",
    "diff = y_pred - y\n",
    "loss = np.power(diff,2)\n",
    "\n",
    "def get_gradient(w, X, y):    \n",
    "    y_pred = np.dot(X, w)\n",
    "    diff = y_pred - y\n",
    "    \n",
    "    grads = np.zeros(2)\n",
    "    for i in range(X.shape[0]):\n",
    "        grad_w0 = 2*diff[i]\n",
    "        grad_w1 = 2*diff[i] * X[i,1]\n",
    "        grads[0] += grad_w0\n",
    "        grads[1] += grad_w1\n",
    "\n",
    "    return grads\n",
    "\n",
    "alpha = 0.01\n",
    "w_new = w - alpha * get_gradient(w, X, y)\n",
    "print(f\"MSE before gradient update: {mean_squared_error(w, X,y)}\")\n",
    "print(f\"MSE after gradient update: {mean_squared_error(w_new, X,y)}\")"
   ]
  },
  {
   "cell_type": "markdown",
   "metadata": {},
   "source": [
    "Now do the second update yourself!"
   ]
  },
  {
   "cell_type": "code",
   "execution_count": null,
   "metadata": {},
   "outputs": [],
   "source": []
  }
 ],
 "metadata": {
  "kernelspec": {
   "display_name": "Python 3",
   "language": "python",
   "name": "python3"
  },
  "language_info": {
   "codemirror_mode": {
    "name": "ipython",
    "version": 3
   },
   "file_extension": ".py",
   "mimetype": "text/x-python",
   "name": "python",
   "nbconvert_exporter": "python",
   "pygments_lexer": "ipython3",
   "version": "3.8.5"
  }
 },
 "nbformat": 4,
 "nbformat_minor": 4
}
