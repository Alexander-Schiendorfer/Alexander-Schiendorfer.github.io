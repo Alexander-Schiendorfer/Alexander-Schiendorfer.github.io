{
 "cells": [
  {
   "cell_type": "code",
   "execution_count": 1,
   "metadata": {},
   "outputs": [],
   "source": [
    "import numpy as np\n",
    "# just performs simple automatic differentiation"
   ]
  },
  {
   "cell_type": "code",
   "execution_count": 53,
   "metadata": {},
   "outputs": [],
   "source": [
    "class CompNode:\n",
    "    def __init__(self, tape):\n",
    "        # make sure that the gradient tape knows us\n",
    "        tape.add(self)\n",
    "    \n",
    "    # perform the intended operation \n",
    "    # and store the result in self.output\n",
    "    def forward(self):\n",
    "        pass\n",
    "    \n",
    "    # assume that self.gradient has all the information \n",
    "    # from outgoing nodes prior to calling backward\n",
    "    # -> perform the local gradient step with respect to inputs\n",
    "    def backward(self):\n",
    "        pass\n",
    "    \n",
    "    # needed to be initialized to 0 \n",
    "    def set_gradient(self, gradient):\n",
    "        self.gradient = gradient\n",
    "        \n",
    "    # receive gradients from downstream nodes     \n",
    "    def add_gradient(self, gradient):\n",
    "        self.gradient += gradient\n",
    "    \n",
    "class ConstantNode(CompNode):\n",
    "    def __init__(self, value, tape):\n",
    "        self.value = value\n",
    "        super().__init__(tape)\n",
    "        \n",
    "    def forward(self):\n",
    "        self.output = self.value\n",
    "    \n",
    "    def backward(self):\n",
    "        # nothing to do here\n",
    "        pass\n",
    "    \n",
    "class Multiply(CompNode):\n",
    "    \n",
    "    def __init__(self, left : CompNode, right : CompNode, tape : Tape):\n",
    "        self.left = left\n",
    "        self.right = right\n",
    "        super().__init__(t)\n",
    "        \n",
    "    def forward(self):\n",
    "        self.output = self.left.output * self.right.output\n",
    "        \n",
    "    # has to know how to locally differentiate multiplication\n",
    "    def backward(self):\n",
    "        self.left.add_gradient(self.right.output * self.gradient)\n",
    "        self.right.add_gradient(self.left.output * self.gradient)\n",
    "        \n",
    "class Tape:\n",
    "    \n",
    "    def __init__(self):\n",
    "        self.computations = []\n",
    "        \n",
    "    def add(self, compNode : CompNode):\n",
    "        self.computations.append(compNode)\n",
    "        \n",
    "    def forward(self):\n",
    "        for compNode in self.computations:\n",
    "            compNode.forward()\n",
    "            \n",
    "    def backward(self):\n",
    "        # first initialize all gradients to zero \n",
    "        for compNode in self.computations:\n",
    "            compNode.set_gradient(0)\n",
    "            \n",
    "        # we need to invert the order    \n",
    "        self.computations.reverse()    \n",
    "        # last node gets a default value of one for the gradient\n",
    "        self.computations[0].set_gradient(1)\n",
    "        for compNode in self.computations:\n",
    "            compNode.backward()"
   ]
  },
  {
   "cell_type": "code",
   "execution_count": 54,
   "metadata": {},
   "outputs": [],
   "source": [
    "t = Tape()\n",
    "a = ConstantNode(2,t)\n",
    "b = ConstantNode(3,t)\n",
    "\n",
    "o = Multiply(a, b, t)\n",
    "f = Multiply(ConstantNode(5, t), o, t)\n",
    "t.forward()"
   ]
  },
  {
   "cell_type": "code",
   "execution_count": 55,
   "metadata": {},
   "outputs": [
    {
     "name": "stdout",
     "output_type": "stream",
     "text": [
      "30\n"
     ]
    }
   ],
   "source": [
    "print(f.output)"
   ]
  },
  {
   "cell_type": "code",
   "execution_count": 57,
   "metadata": {},
   "outputs": [],
   "source": [
    "# start reverse mode autodifferentiation\n",
    "t.backward()"
   ]
  },
  {
   "cell_type": "code",
   "execution_count": 60,
   "metadata": {},
   "outputs": [
    {
     "name": "stdout",
     "output_type": "stream",
     "text": [
      "1\n",
      "5\n",
      "15\n",
      "10\n"
     ]
    }
   ],
   "source": [
    "# now inspect the gradients \n",
    "print(f.gradient)\n",
    "print(o.gradient)\n",
    "print(a.gradient)\n",
    "print(b.gradient)"
   ]
  },
  {
   "cell_type": "markdown",
   "metadata": {},
   "source": [
    "### A diamond-shaped graph that makes use of the multivariate chain rule"
   ]
  },
  {
   "cell_type": "code",
   "execution_count": 71,
   "metadata": {},
   "outputs": [],
   "source": [
    "t = Tape()\n",
    "x = ConstantNode(3,t)\n",
    "y = ConstantNode(2,t)\n",
    "z = ConstantNode(1,t)\n",
    "\n",
    "h1 = Multiply(x, y, t)\n",
    "h2 = Multiply(y, z, t)\n",
    "\n",
    "h = Multiply(h1, h2, t)\n",
    "o = Multiply(h, h, t)\n",
    "t.forward()"
   ]
  },
  {
   "cell_type": "code",
   "execution_count": 72,
   "metadata": {},
   "outputs": [
    {
     "name": "stdout",
     "output_type": "stream",
     "text": [
      "24\n",
      "48\n",
      "144\n",
      "96\n",
      "288\n",
      "288\n"
     ]
    }
   ],
   "source": [
    "t.backward()\n",
    "print(h.gradient)\n",
    "print(\"--\")\n",
    "print(h1.gradient)\n",
    "print(h2.gradient)\n",
    "print(\"--\")\n",
    "print(x.gradient)\n",
    "print(y.gradient)\n",
    "print(z.gradient)"
   ]
  },
  {
   "cell_type": "markdown",
   "metadata": {},
   "source": [
    "now with an explicit operation for taking the square."
   ]
  },
  {
   "cell_type": "code",
   "execution_count": 79,
   "metadata": {},
   "outputs": [],
   "source": [
    "class Square(CompNode):\n",
    "    \n",
    "    def __init__(self, x : CompNode, tape : Tape):\n",
    "        self.x = x\n",
    "        super().__init__(t)\n",
    "        \n",
    "    def forward(self):\n",
    "        self.output = self.x.output**2\n",
    "        \n",
    "    # has to know how to locally differentiate x^2\n",
    "    def backward(self):\n",
    "        self.x.add_gradient( (2*self.x.output) * self.gradient)\n"
   ]
  },
  {
   "cell_type": "code",
   "execution_count": 80,
   "metadata": {},
   "outputs": [],
   "source": [
    "t = Tape()\n",
    "x = ConstantNode(3,t)\n",
    "y = ConstantNode(2,t)\n",
    "z = ConstantNode(1,t)\n",
    "\n",
    "h1 = Multiply(x, y, t)\n",
    "h2 = Multiply(y, z, t)\n",
    "\n",
    "h = Multiply(h1, h2, t)\n",
    "o = Square(h, t)\n",
    "t.forward()"
   ]
  },
  {
   "cell_type": "code",
   "execution_count": 81,
   "metadata": {},
   "outputs": [
    {
     "name": "stdout",
     "output_type": "stream",
     "text": [
      "24\n",
      "--\n",
      "48\n",
      "144\n",
      "--\n",
      "96\n",
      "288\n",
      "288\n"
     ]
    }
   ],
   "source": [
    "t.backward()\n",
    "print(h.gradient)\n",
    "print(\"--\")\n",
    "print(h1.gradient)\n",
    "print(h2.gradient)\n",
    "print(\"--\")\n",
    "print(x.gradient)\n",
    "print(y.gradient)\n",
    "print(z.gradient)"
   ]
  },
  {
   "cell_type": "code",
   "execution_count": null,
   "metadata": {},
   "outputs": [],
   "source": []
  }
 ],
 "metadata": {
  "kernelspec": {
   "display_name": "Python 3",
   "language": "python",
   "name": "python3"
  },
  "language_info": {
   "codemirror_mode": {
    "name": "ipython",
    "version": 3
   },
   "file_extension": ".py",
   "mimetype": "text/x-python",
   "name": "python",
   "nbconvert_exporter": "python",
   "pygments_lexer": "ipython3",
   "version": "3.7.3"
  }
 },
 "nbformat": 4,
 "nbformat_minor": 2
}
