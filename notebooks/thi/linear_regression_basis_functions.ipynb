{
 "cells": [
  {
   "cell_type": "code",
   "execution_count": 1,
   "metadata": {},
   "outputs": [
    {
     "name": "stdout",
     "output_type": "stream",
     "text": [
      "Populating the interactive namespace from numpy and matplotlib\n"
     ]
    }
   ],
   "source": [
    "import numpy as np\n",
    "%pylab inline"
   ]
  },
  {
   "cell_type": "markdown",
   "metadata": {},
   "source": [
    "# Modelselection, Overfitting and Underfitting\n",
    "\n",
    "This task is intended to clarify the terms training set, validation set and test set and demonstrate how to identify the best performing model. Specifically, you extend a one-dimensional data series $x$ with polynomial base functions $[x^2, x^3, ..., x^k]$. Your task is to determine a suitable polynomial degree $k$.\n",
    "\n",
    "Let's define a random data set:"
   ]
  },
  {
   "cell_type": "code",
   "execution_count": 2,
   "metadata": {},
   "outputs": [],
   "source": [
    "x_max = 10      # our input ranges from -x_max to x_max, we get training examples from this 1D range\n",
    "n_data = 80     # number of training examples \n",
    "max_k = 9       # highest degree of polynomial to consider\n",
    "\n",
    "# the true (non-polynomial) function that we would like to learn\n",
    "def true_process(x):\n",
    "    # sin(x + 2) * (x - 1)\n",
    "    return np.sin(x + 2) * (x - 1)\n",
    "    \n",
    "def gen_data_set():\n",
    "    np.random.seed(1338)\n",
    "    data_x = - x_max + np.random.rand(n_data) * (2 * x_max)\n",
    "    data_y = true_process(data_x)\n",
    "    noise = np.random.normal(0, 1.5, n_data)\n",
    "    data_y += noise\n",
    "    return (np.atleast_2d(data_x).T, data_y)"
   ]
  },
  {
   "cell_type": "code",
   "execution_count": 3,
   "metadata": {},
   "outputs": [
    {
     "data": {
      "text/plain": [
       "Text(0, 0.5, 'Labels')"
      ]
     },
     "execution_count": 3,
     "metadata": {},
     "output_type": "execute_result"
    },
    {
     "data": {
      "image/png": "[encoded data removed]",
      "text/plain": [
       "<Figure size 432x288 with 1 Axes>"
      ]
     },
     "metadata": {
      "needs_background": "light"
     },
     "output_type": "display_data"
    }
   ],
   "source": [
    "data_x, data_y = gen_data_set()\n",
    "\n",
    "plot(data_x, data_y, 'x')\n",
    "title('Dataset')\n",
    "xlabel('Input')\n",
    "ylabel('Labels')"
   ]
  },
  {
   "cell_type": "markdown",
   "metadata": {},
   "source": [
    "## Training-Validation-Test Split\n",
    "Now that we have our data set, we separate the data into a training set and a preliminary test set:\n"
   ]
  },
  {
   "cell_type": "code",
   "execution_count": 5,
   "metadata": {},
   "outputs": [
    {
     "name": "stdout",
     "output_type": "stream",
     "text": [
      "[0.26202468 0.15868397 0.27812652 0.45931689 0.32100054 0.51839282\n",
      " 0.26194293 0.97608528 0.73281455 0.11527423 0.38627507 0.62850118\n",
      " 0.12505793 0.98354861 0.44322487 0.78955834 0.79411858 0.36126157\n",
      " 0.41610394 0.58425813 0.76017177 0.18780841 0.28816715 0.67021886\n",
      " 0.49964826 0.17856868 0.4131413  0.19919524 0.5316994  0.8323707\n",
      " 0.18525095 0.95735922 0.42541467 0.50400704 0.51047095 0.01579145\n",
      " 0.73169007 0.99330504 0.16287753 0.12663478 0.37483418 0.69321944\n",
      " 0.00290103 0.36922906 0.05867933 0.78933609 0.34976921 0.70252372\n",
      " 0.49122908 0.97287233 0.83596788 0.61023733 0.56451898 0.99738914\n",
      " 0.25472414 0.01437786 0.08904507 0.9389826  0.9734594  0.49148153\n",
      " 0.34093597 0.72285762 0.01089676 0.75995318 0.67140279 0.19044553\n",
      " 0.66646465 0.9111224  0.16211743 0.91057832 0.3243579  0.70029842\n",
      " 0.26545034 0.51895865 0.17746798 0.46784597 0.44896452 0.39606462\n",
      " 0.79192543 0.49339824]\n"
     ]
    }
   ],
   "source": [
    "# first, we get a random number for every training example between 0 and 1\n",
    "np.random.seed(1337)     # just to have everything reproducible\n",
    "rand_numbers = np.random.rand(len(data_x))\n",
    "print(rand_numbers)"
   ]
  },
  {
   "cell_type": "code",
   "execution_count": 6,
   "metadata": {},
   "outputs": [
    {
     "name": "stdout",
     "output_type": "stream",
     "text": [
      "[ True  True  True  True  True  True  True False False  True  True  True\n",
      "  True False  True False False  True  True  True False  True  True  True\n",
      "  True  True  True  True  True False  True False  True  True  True  True\n",
      " False False  True  True  True  True  True  True  True False  True False\n",
      "  True False False  True  True False  True  True  True False False  True\n",
      "  True False  True False  True  True  True False  True False  True False\n",
      "  True  True  True  True  True  True False  True]\n"
     ]
    }
   ],
   "source": [
    "# then take the indices for all numbers < 0.70 as our training indices \n",
    "# afterwards, about 70% of all instances are in the training set\n",
    "train_indices = rand_numbers < 0.70\n",
    "print(train_indices)"
   ]
  },
  {
   "cell_type": "code",
   "execution_count": 7,
   "metadata": {},
   "outputs": [
    {
     "name": "stdout",
     "output_type": "stream",
     "text": [
      "(57, 1)\n",
      "(23, 1)\n"
     ]
    }
   ],
   "source": [
    "train_x = data_x[train_indices]\n",
    "train_y = data_y[train_indices]\n",
    "\n",
    "# the complementary part serves as preliminary test set \n",
    "test_x = data_x[~train_indices]\n",
    "test_y = data_y[~train_indices]\n",
    "\n",
    "print(train_x.shape)\n",
    "print(test_x.shape)"
   ]
  },
  {
   "cell_type": "markdown",
   "metadata": {},
   "source": [
    "Now we should also split the preliminary test set into a *validation set* (for model selection) and a \"real\" *test set* to realistically estimate the error.  "
   ]
  },
  {
   "cell_type": "code",
   "execution_count": 7,
   "metadata": {},
   "outputs": [],
   "source": [
    "# Task a)\n",
    "\n",
    "## TODO Use half of the test set as validation set and update the test set.\n",
    "val_x = test_x\n",
    "val_y = test_y\n"
   ]
  },
  {
   "cell_type": "markdown",
   "metadata": {},
   "source": [
    "Let's first take only normal linear regression to have a starting point for the polynomial regression code:"
   ]
  },
  {
   "cell_type": "code",
   "execution_count": 8,
   "metadata": {},
   "outputs": [
    {
     "name": "stdout",
     "output_type": "stream",
     "text": [
      "w0: 0.6958543269865543 , w1: -0.11283745870969632\n"
     ]
    }
   ],
   "source": [
    "from sklearn.linear_model import LinearRegression\n",
    "\n",
    "reg = LinearRegression(fit_intercept=True)\n",
    "# performs linear regression on the inputs\n",
    "reg.fit(train_x, train_y)\n",
    "\n",
    "# if the resulting model is: y = w0 + w1 * x   then reg.intercept_ contains w0 and reg.coef_ contains w1 \n",
    "# (reg.coef_ contains an array for the dimensions we will get)\n",
    "w0, [w1] = reg.intercept_, reg.coef_\n",
    "print('w0:', w0, ', w1:', w1)"
   ]
  },
  {
   "cell_type": "code",
   "execution_count": 9,
   "metadata": {},
   "outputs": [
    {
     "data": {
      "text/plain": [
       "Text(0, 0.5, 'Target')"
      ]
     },
     "execution_count": 9,
     "metadata": {},
     "output_type": "execute_result"
    },
    {
     "data": {
      "image/png": "[encoded data removed]",
      "text/plain": [
       "<Figure size 432x288 with 1 Axes>"
      ]
     },
     "metadata": {
      "needs_background": "light"
     },
     "output_type": "display_data"
    }
   ],
   "source": [
    "# let's plot the model in action\n",
    "def predict(x, w0, w1):\n",
    "    return w0 + w1 * x\n",
    "\n",
    "# plot data set and linear model\n",
    "plot_x = np.linspace(- x_max, x_max, 100)\n",
    "plot(train_x, train_y, 'x')\n",
    "plot(plot_x, predict(plot_x, w0, w1), 'r')\n",
    "title('Linear Model')\n",
    "xlabel('Input')\n",
    "ylabel('Target')"
   ]
  },
  {
   "cell_type": "markdown",
   "metadata": {},
   "source": [
    "## Polynomial Regression with Basis Extension\n",
    "\n",
    "In order not to be able to perform \"only\" simple linear regression, we use the \"trick\" of the polynomial basic function extension. This means, instead of predicting based on $x$ only, we add $x^2$, $x^3$ etc. as new features.\n",
    "\n",
    "Starting from the case $x \\in \\mathbb{R}^1$ (thus a scalar) with the model \n",
    "$$ y = w_0 + w_1 \\cdot x $$\n",
    "\n",
    "we extend for the complexity $k>1$ (the degree of polynomial) on vectors \n",
    "$\\textbf{h}(x) = [x, x^2, \\ldots, x^k]^T \\in \\mathbb{R}^k$ \n",
    "\n",
    "and then receive a model \n",
    "$$ y = w_0 + w_1 \\cdot x_1 + \\ldots + w_k \\cdot x_k = w_0 + w_1 \\cdot x + \\ldots + x_k \\cdot x^k \n",
    "= \\textbf{w}^T \\textbf{h}(x) + w_0 $$\n",
    "\n",
    "with $k$ weights/ coefficients stored in $\\textbf{w}$ (and scalar bias $w_0$), which is linear in the new features. \n",
    "\n",
    "Now the question arises which $k$ is best for our dataset. "
   ]
  },
  {
   "cell_type": "code",
   "execution_count": 10,
   "metadata": {},
   "outputs": [
    {
     "name": "stdout",
     "output_type": "stream",
     "text": [
      "Model complexity (polynomial degree) k = 2\n",
      "Training error: 0.0\n",
      "Validation error: 0.0\n",
      "-----------------------------------------\n",
      "Model complexity (polynomial degree) k = 3\n",
      "Training error: 0.0\n",
      "Validation error: 0.0\n",
      "-----------------------------------------\n",
      "Model complexity (polynomial degree) k = 4\n",
      "Training error: 0.0\n",
      "Validation error: 0.0\n",
      "-----------------------------------------\n",
      "Model complexity (polynomial degree) k = 5\n",
      "Training error: 0.0\n",
      "Validation error: 0.0\n",
      "-----------------------------------------\n",
      "Model complexity (polynomial degree) k = 6\n",
      "Training error: 0.0\n",
      "Validation error: 0.0\n",
      "-----------------------------------------\n",
      "Model complexity (polynomial degree) k = 7\n",
      "Training error: 0.0\n",
      "Validation error: 0.0\n",
      "-----------------------------------------\n",
      "Model complexity (polynomial degree) k = 8\n",
      "Training error: 0.0\n",
      "Validation error: 0.0\n",
      "-----------------------------------------\n",
      "Model complexity (polynomial degree) k = 9\n",
      "Training error: 0.0\n",
      "Validation error: 0.0\n",
      "-----------------------------------------\n"
     ]
    }
   ],
   "source": [
    "# Task b)\n",
    "\n",
    "# now we iterate over our complexity values k and train linear regression models with the polynomial\n",
    "# basis function expansions\n",
    "\n",
    "for k in range(2, max_k + 1):\n",
    "    print(\"Model complexity (polynomial degree) k =\", k)\n",
    "    \n",
    "    ## TODO Perform basis function expansion on the training set.\n",
    "    expanded_train_x = train_x\n",
    "    \n",
    "    reg.fit(expanded_train_x, train_y)\n",
    "    \n",
    "    ## TODO Calculate the loss (RMS error) on the training and validation set.\n",
    "    train_error = 0.0\n",
    "    val_error = 0.0\n",
    "    print(\"Training error:\", train_error)\n",
    "    print(\"Validation error:\", val_error)\n",
    "    print(\"-----------------------------------------\")\n",
    "    "
   ]
  },
  {
   "cell_type": "markdown",
   "metadata": {},
   "source": [
    "## Analyse of Generalization \n",
    "\n",
    "Now we output a so-called *learning curve*, i.e. a plot with the complexity $k$ on the x-axis/absciss as well as the training and validation errors on the y-axis/ ordinate."
   ]
  },
  {
   "cell_type": "code",
   "execution_count": 11,
   "metadata": {},
   "outputs": [],
   "source": [
    "# Task c)\n",
    "\n",
    "## TODO Plot the learning curve. \n",
    "\n",
    "## TODO Determine the best model complexity for the given data points. "
   ]
  },
  {
   "cell_type": "markdown",
   "metadata": {},
   "source": [
    "## Printing the Test Error\n",
    "Finally, we compare the error of the best model on the validation set with the final error on the test set (never used before)."
   ]
  },
  {
   "cell_type": "code",
   "execution_count": 12,
   "metadata": {},
   "outputs": [
    {
     "name": "stdout",
     "output_type": "stream",
     "text": [
      "Validation error: 0.0\n",
      "Test error: 0.0\n"
     ]
    }
   ],
   "source": [
    "# Task d)\n",
    "\n",
    "## TODO Calculate the loss for the best k on the validation and test set (=generalization error).\n",
    "best_k_val_error = 0.0\n",
    "best_k_test_error = 0.0\n",
    "\n",
    "print(\"Validation error:\", best_k_val_error)\n",
    "print(\"Test error:\", best_k_test_error)\n",
    "\n",
    "## TODO Compare the validation and test error. What do you find?"
   ]
  },
  {
   "cell_type": "code",
   "execution_count": null,
   "metadata": {},
   "outputs": [],
   "source": []
  }
 ],
 "metadata": {
  "kernelspec": {
   "display_name": "Python 3",
   "language": "python",
   "name": "python3"
  },
  "language_info": {
   "codemirror_mode": {
    "name": "ipython",
    "version": 3
   },
   "file_extension": ".py",
   "mimetype": "text/x-python",
   "name": "python",
   "nbconvert_exporter": "python",
   "pygments_lexer": "ipython3",
   "version": "3.8.5"
  }
 },
 "nbformat": 4,
 "nbformat_minor": 2
}
